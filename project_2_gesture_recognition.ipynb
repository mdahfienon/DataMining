{
 "cells": [
  {
   "cell_type": "markdown",
   "metadata": {},
   "source": [
    "#  Project 2: Gesture recognition ~ LINFO2275\n",
    "\n",
    "## Baseline for gesture recognition\n",
    "\n",
    "### Preliminaries"
   ]
  },
  {
   "cell_type": "code",
   "execution_count": null,
   "metadata": {},
   "outputs": [],
   "source": [
    "# Librairies to use\n",
    "import os \n",
    "import linecache\n",
    "import pandas as pd\n",
    "import numpy as np\n",
    "import math\n",
    "import scipy.spatial.distance as dist\n",
    "from matplotlib.patches import ConnectionPatch\n",
    "import matplotlib.pyplot as plt\n",
    "import natsort\n",
    "from sklearn.linear_model import LogisticRegression\n",
    "from sklearn.metrics import classification_report, confusion_matrix\n",
    "\n",
    "# The path to the folder containing the data\n",
    "root1 = \"E:/DOCUMENTS/CIVILE/BELGIQUE/MASTER UCL/LSBA_2021/DATS2M/BLOC 1/QUADRI 2\"\n",
    "root2 = \"/LINFO2275_DATA MINING & DECISION MAKING/PROJET/GESTURE RECOGNITION/WORK/Domain01\"\n",
    "chemin = root1 + root2\n",
    "\n",
    "# Change or setting up the directory \n",
    "os.chdir(chemin)"
   ]
  },
  {
   "cell_type": "markdown",
   "metadata": {},
   "source": [
    "### Data preprocessing"
   ]
  },
  {
   "cell_type": "code",
   "execution_count": null,
   "metadata": {},
   "outputs": [],
   "source": [
    "# the idea here is to transform the data sets to a numpy array structure to easily \n",
    "# apply dynamic time warping the the numpy array\n",
    "\n",
    "# List of the sketch : 1,2,3...\n",
    "sketch_draw = []\n",
    "\n",
    "# list to store the data identification\n",
    "sketch_id = []\n",
    "\n",
    "# list to store the data on array structure\n",
    "sketch_data = []\n",
    "\n",
    "# list of the user id\n",
    "sketch_user = []\n",
    "\n",
    "# Reading the file in my directory\n",
    "for file in natsort.natsorted(os.listdir()): #os.listdir():\n",
    "    \n",
    "    # Check whether file is in text format or not\n",
    "    if file.endswith(\".txt\"):\n",
    "        \n",
    "        # Getting the class of the sketch : \n",
    "        class_id = linecache.getline(file,2).split(\"=\")[1].split()[0]\n",
    "        \n",
    "        # Getting the number drawn\n",
    "        sketch_draw.append(class_id)\n",
    "        \n",
    "        # Getting the user id: \n",
    "        user_id = linecache.getline(file,3).split(\"=\")[1].split()[0]\n",
    "        \n",
    "        # Getting the concerned user\n",
    "        sketch_user.append(user_id)\n",
    "        \n",
    "        # Creating an identifiant \n",
    "        combi = \"User_\"+ user_id + \"_class_\" + class_id\n",
    "        \n",
    "        # Adding the created identifiant to the data id list\n",
    "        sketch_id.append(combi)\n",
    "        \n",
    "        # Reading the txt files\n",
    "        data = pd.read_csv(file, skiprows = 5, names = [\"x\",\"y\",\"z\",\"t\"], usecols = [\"x\",\"y\",\"z\"])\n",
    "        \n",
    "        # Appending the data to the data list after converting the dataframe to numpy array structure \n",
    "        sketch_data.append(data.to_numpy())"
   ]
  },
  {
   "cell_type": "markdown",
   "metadata": {},
   "source": [
    "### Distance matrix"
   ]
  },
  {
   "cell_type": "code",
   "execution_count": null,
   "metadata": {},
   "outputs": [],
   "source": [
    "# Distance matrix of the diqtance between points of two sketch\n",
    "\n",
    "# As the sketch is a 3D coordinate, the distance metric to use is the euclidean distance metric\n",
    "\n",
    "def distance(Point_A, Point_B):\n",
    "    \"\"\"\n",
    "    Argument : Vector of points coordinate (data frame of sketch in numpy array format)\n",
    "    \n",
    "    Return : a matrix of the distance each point of the two dataframe.\n",
    "                the shape of this matrix is the the length of the arrays\n",
    "    \"\"\"\n",
    "    # Defining number of rows \n",
    "    N = Point_A.shape[0]\n",
    "    \n",
    "    # Defining number of columns\n",
    "    M = Point_B.shape[0]\n",
    "    \n",
    "    # Defining the matrix\n",
    "    dist_mat = np.zeros((N, M))\n",
    "    \n",
    "    # Filling up the matrix\n",
    "    for i in range(N):\n",
    "        for j in range(M):\n",
    "            \n",
    "            # Euclidena distance calculation\n",
    "            dist_mat[i, j] = np.linalg.norm(Point_A[i]-Point_B[j])\n",
    "    return dist_mat"
   ]
  },
  {
   "cell_type": "markdown",
   "metadata": {},
   "source": [
    "### Dynamic time warpin algorithm function "
   ]
  },
  {
   "cell_type": "code",
   "execution_count": null,
   "metadata": {},
   "outputs": [],
   "source": [
    "def dp(dist_mat):\n",
    "    \"\"\"\n",
    "    Argument: dist_mat is the distance matrix of the sketch\n",
    "    \n",
    "    Return : \n",
    "    \n",
    "    Find minimum-cost path through matrix `dist_mat` using dynamic programming.\n",
    "\n",
    "    The cost of a path is defined as the sum of the matrix entries on that\n",
    "    path. See the following for details of the algorithm:\n",
    "\n",
    "    - http://en.wikipedia.org/wiki/Dynamic_time_warping\n",
    "    - https://www.ee.columbia.edu/~dpwe/resources/matlab/dtw/dp.m\n",
    "\n",
    "    The notation in the first reference was followed, while Dan Ellis's code\n",
    "    (second reference) was used to check for correctness. Returns a list of\n",
    "    path indices and the cost matrix.\n",
    "    \"\"\"\n",
    "\n",
    "    N, M = dist_mat.shape\n",
    "    \n",
    "    # Initialize the cost matrix\n",
    "    cost_mat = np.zeros((N + 1, M + 1))\n",
    "    for i in range(1, N + 1):\n",
    "        cost_mat[i, 0] = np.inf\n",
    "    for i in range(1, M + 1):\n",
    "        cost_mat[0, i] = np.inf\n",
    "\n",
    "    # Fill the cost matrix while keeping traceback information\n",
    "    traceback_mat = np.zeros((N, M))\n",
    "    for i in range(N):\n",
    "        for j in range(M):\n",
    "            penalty = [\n",
    "                cost_mat[i, j],      # match (0)\n",
    "                cost_mat[i, j + 1],  # insertion (1)\n",
    "                cost_mat[i + 1, j]]  # deletion (2)\n",
    "            i_penalty = np.argmin(penalty)\n",
    "            cost_mat[i + 1, j + 1] = dist_mat[i, j] + penalty[i_penalty]\n",
    "            traceback_mat[i, j] = i_penalty\n",
    "\n",
    "    # Traceback from bottom right\n",
    "    i = N - 1\n",
    "    j = M - 1\n",
    "    path = [(i, j)]\n",
    "    while i > 0 or j > 0:\n",
    "        tb_type = traceback_mat[i, j]\n",
    "        if tb_type == 0:\n",
    "            # Match\n",
    "            i = i - 1\n",
    "            j = j - 1\n",
    "        elif tb_type == 1:\n",
    "            # Insertion\n",
    "            i = i - 1\n",
    "        elif tb_type == 2:\n",
    "            # Deletion\n",
    "            j = j - 1\n",
    "        path.append((i, j))\n",
    "\n",
    "    # Strip infinity edges from cost_mat before returning\n",
    "    cost_mat = cost_mat[1:, 1:]\n",
    "    return (path[::-1], cost_mat)"
   ]
  },
  {
   "cell_type": "markdown",
   "metadata": {},
   "source": [
    "### Alignment cost  of two sketches"
   ]
  },
  {
   "cell_type": "code",
   "execution_count": null,
   "metadata": {},
   "outputs": [],
   "source": [
    "# Function returning the cost of the alignment of two sketch\n",
    "def align_cost(sketch1, sketch2):\n",
    "    \"\"\" \n",
    "    Argument: the two sketchs to compare in array structure\n",
    "    \n",
    "    Return: the cost of the alignment\n",
    "    \"\"\"\n",
    "    return round(dp(distance(sketch1,sketch2))[1][len(sketch1) - 1, len(sketch2) - 1],4)"
   ]
  },
  {
   "cell_type": "markdown",
   "metadata": {},
   "source": [
    "### 10-most align sketches with the specified sketch"
   ]
  },
  {
   "cell_type": "code",
   "execution_count": null,
   "metadata": {},
   "outputs": [],
   "source": [
    "# Function computing the most align sketch\n",
    "def most_align(sketch):\n",
    "    \"\"\"\n",
    "    Arguments : the sketch you want to get it recognized pattern\n",
    "    \n",
    "    Return: this function returns two values:\n",
    "    \n",
    "        - a sorted list of the 10 smaller alignment cost with all other sketch\n",
    "        - and the list of the 10 patterns (class) associated to the list of alignment list \n",
    "    \"\"\"\n",
    "    # list containing the sketch relatively to other sketch in the dataframe\n",
    "    all_cost = []\n",
    "    \n",
    "    # List of the 8-most aligned with the main sketch\n",
    "    align = []\n",
    "    \n",
    "    # List of the drawn relative to\n",
    "    drawn_relative = []\n",
    "    \n",
    "    # Getting the cost and appending it to the cost list \n",
    "    for val in sketch_data:\n",
    "        all_cost.append(align_cost(val, sketch))\n",
    "    \n",
    "    # Getting the index of the cost\n",
    "    index_sorted = np.argsort(all_cost)\n",
    "    \n",
    "    # index of 10-most align sketch  \n",
    "    most_10 = index_sorted[1:11]\n",
    "    \n",
    "    # Getting the corresponding sketch_id\n",
    "    for i in most_10: \n",
    "        align.append(sketch_id[i])\n",
    "        drawn_relative.append(sketch_draw[i])\n",
    "    \n",
    "    return align, drawn_relative"
   ]
  },
  {
   "cell_type": "markdown",
   "metadata": {},
   "source": [
    "### Algorithm for most align aligned sketch and selection of recognized pattern "
   ]
  },
  {
   "cell_type": "code",
   "execution_count": null,
   "metadata": {},
   "outputs": [],
   "source": [
    "# User i sketches identification\n",
    "\n",
    "def recognized(id_user):\n",
    "    \n",
    "    # lists to retain the index of the data to be used for comparison against the effective data\n",
    "    comparing_list = []\n",
    "    effective_list = []\n",
    "    \n",
    "    # Go througth the sketch_user list to get the index of the concerned data\n",
    "    for k in range(len(sketch_user)):\n",
    "        \n",
    "        if int(sketch_user[k]) != id_user:\n",
    "            comparing_list.append(k)\n",
    "        else :\n",
    "            effective_list.append(k)\n",
    "    \n",
    "        \n",
    "    # the recognized pattern\n",
    "    recognized_pattern = []\n",
    "    \n",
    "    # concerned pattern\n",
    "    concerned_pattern = []\n",
    "    \n",
    "    # Loop throughtout the effective list \n",
    "    for i in effective_list[::10]:\n",
    "        \n",
    "        # list to store the alignment cost \n",
    "        all_cost = []\n",
    "        \n",
    "        # Loop throughout the comparing_list\n",
    "        for j in comparing_list:\n",
    "                        \n",
    "            # Add the alignment cost between i and each j to list of cost \n",
    "            all_cost.append(align_cost(sketch_data[i],sketch_data[j]))\n",
    "        \n",
    "        # take the index of the order the cost list \n",
    "        index_sorted = np.argsort(all_cost)\n",
    "        \n",
    "        # appending the recognized pattern to the list\n",
    "        recognized_pattern.append(sketch_draw[index_sorted[1]])\n",
    "        \n",
    "        # real pattern \n",
    "        concerned_pattern.append(sketch_draw[i])\n",
    "        \n",
    "    return [concerned_pattern,recognized_pattern]"
   ]
  },
  {
   "cell_type": "markdown",
   "metadata": {},
   "source": [
    "## Gesture-based system analysis"
   ]
  },
  {
   "cell_type": "markdown",
   "metadata": {},
   "source": [
    "### Kernel matrix "
   ]
  },
  {
   "cell_type": "code",
   "execution_count": null,
   "metadata": {},
   "outputs": [],
   "source": [
    "noyau = []\n",
    "for i in range(len(sketch_data)):\n",
    "    noyau1 = []\n",
    "    for j in range(len(sketch_data)):\n",
    "        noyau1.append(round(sum(np.matrix.diagonal(distance(sketch_data[i],sketch_data[j]))),2))\n",
    "    noyau.append(noyau1)\n",
    "\n",
    "noyau"
   ]
  }
 ],
 "metadata": {
  "kernelspec": {
   "display_name": "Python 3",
   "language": "python",
   "name": "python3"
  },
  "language_info": {
   "codemirror_mode": {
    "name": "ipython",
    "version": 3
   },
   "file_extension": ".py",
   "mimetype": "text/x-python",
   "name": "python",
   "nbconvert_exporter": "python",
   "pygments_lexer": "ipython3",
   "version": "3.8.3"
  }
 },
 "nbformat": 4,
 "nbformat_minor": 4
}
